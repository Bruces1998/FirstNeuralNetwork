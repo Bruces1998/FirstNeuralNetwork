{
 "cells": [
  {
   "cell_type": "code",
   "execution_count": 1,
   "metadata": {},
   "outputs": [],
   "source": [
    "from skimage.exposure import rescale_intensity\n",
    "import numpy as np\n",
    "import cv2"
   ]
  },
  {
   "cell_type": "code",
   "execution_count": 2,
   "metadata": {},
   "outputs": [],
   "source": [
    "def convolve(image, K):\n",
    "    \n",
    "    (iH, iW) = image.shape[:2]\n",
    "    (kH, kW) = K.shape[:2]\n",
    "    \n",
    "    \n",
    "    pad = (kW - 1) //2\n",
    "    image = cv2.copyMakeBorder(image, pad, pad, pad, pad, cv2.BORDER_REPLICATE)\n",
    "    output = np.zeros((iH, iW), dtype=\"float\")\n",
    "    for y in np.arange(pad,pad+iH):\n",
    "        for x in np.arange( pad, pad + iW):\n",
    "            roi = image[y - pad:y + pad +1, x-pad: x+pad +1]\n",
    "            \n",
    "            k = (roi*K).sum()\n",
    "            \n",
    "            \n",
    "            output[y - pad, x-pad] = k\n",
    "            \n",
    "            \n",
    "            \n",
    "    print(output)\n",
    "    output = rescale_intensity(output, in_range=(0, 255))\n",
    "    print(output)\n",
    "    output = (output * 255).astype(\"uint8\")\n",
    "    \n",
    "    return output"
   ]
  },
  {
   "cell_type": "code",
   "execution_count": 3,
   "metadata": {},
   "outputs": [],
   "source": [
    "smallBlur = np.ones((7, 7), dtype=\"float\") * (1.0 / (7 * 7))\n",
    "largeBlur = np.ones((21, 21), dtype=\"float\") * (1.0 / (21* 21))\n"
   ]
  },
  {
   "cell_type": "code",
   "execution_count": 4,
   "metadata": {},
   "outputs": [],
   "source": [
    "sharpen = np.array(([0, -1, 0], [-1, 5, -1], [0, -1, 0]), dtype=\"int\")"
   ]
  },
  {
   "cell_type": "code",
   "execution_count": 5,
   "metadata": {},
   "outputs": [],
   "source": [
    "laplacian = np.array(([0, 1, 0],[1, -4, 1],[0, 1, 0]), dtype=\"int\")"
   ]
  },
  {
   "cell_type": "code",
   "execution_count": 6,
   "metadata": {},
   "outputs": [],
   "source": [
    "sobelX = np.array(( [-1, 0, 1], [-2, 0, 2], [-1, 0, 1]), dtype=\"int\")"
   ]
  },
  {
   "cell_type": "code",
   "execution_count": 7,
   "metadata": {},
   "outputs": [],
   "source": [
    "sobelY = np.array(( [-1, -2, -1], [0, 0, 0], [1, 2, 1]), dtype=\"int\")"
   ]
  },
  {
   "cell_type": "code",
   "execution_count": 8,
   "metadata": {},
   "outputs": [],
   "source": [
    "emboss = np.array(( [-2, -1, 0], [-1, 1, 1], [0, 1, 2]), dtype=\"int\")"
   ]
  },
  {
   "cell_type": "code",
   "execution_count": 9,
   "metadata": {},
   "outputs": [],
   "source": [
    "from PIL import Image\n",
    "import os\n",
    "import numpy as np\n",
    "label=[]\n",
    "data=[]"
   ]
  },
  {
   "cell_type": "code",
   "execution_count": 10,
   "metadata": {},
   "outputs": [],
   "source": [
    "direc = ('dog/')\n",
    "\n",
    "for i in os.listdir(direc):\n",
    "    path = os.path.join(direc, i)\n",
    "    img = Image.open(path)\n",
    "    img = np.array(img)\n",
    "    image = cv2.imread(path)\n",
    "#     print(np.array(img))"
   ]
  },
  {
   "cell_type": "code",
   "execution_count": 11,
   "metadata": {},
   "outputs": [],
   "source": [
    "# img.shape"
   ]
  },
  {
   "cell_type": "code",
   "execution_count": 12,
   "metadata": {},
   "outputs": [
    {
     "data": {
      "text/plain": [
       "(180, 240, 3)"
      ]
     },
     "execution_count": 12,
     "metadata": {},
     "output_type": "execute_result"
    }
   ],
   "source": [
    "image.shape"
   ]
  },
  {
   "cell_type": "code",
   "execution_count": 13,
   "metadata": {},
   "outputs": [],
   "source": [
    "gray = cv2.cvtColor(image, cv2.COLOR_BGR2GRAY)"
   ]
  },
  {
   "cell_type": "code",
   "execution_count": 14,
   "metadata": {},
   "outputs": [],
   "source": [
    "kernelBank = ( (\"small_blur\", smallBlur), (\"large_blur\", largeBlur), (\"sharpen\", sharpen), (\"laplacian\", laplacian), (\"sobel_x\", sobelX), (\"sobel_y\", sobelY), (\"emboss\", emboss))"
   ]
  },
  {
   "cell_type": "code",
   "execution_count": 15,
   "metadata": {},
   "outputs": [
    {
     "name": "stdout",
     "output_type": "stream",
     "text": [
      "[INFO] applying small_blur kernel\n",
      "[[ 95.44897959  95.44897959  94.65306122 ...  49.08163265  49.59183673\n",
      "   50.46938776]\n",
      " [ 91.87755102  94.32653061  96.57142857 ...  46.06122449  46.04081633\n",
      "   46.83673469]\n",
      " [ 87.40816327  92.02040816  96.93877551 ...  44.16326531  44.2244898\n",
      "   44.81632653]\n",
      " ...\n",
      " [121.91836735 118.59183673 115.83673469 ... 119.44897959 119.30612245\n",
      "  119.12244898]\n",
      " [109.10204082 108.51020408 108.10204082 ... 118.55102041 118.48979592\n",
      "  118.40816327]\n",
      " [108.02040816 107.44897959 107.26530612 ... 117.73469388 117.85714286\n",
      "  118.04081633]]\n",
      "[[0.37430972 0.37430972 0.37118848 ... 0.19247699 0.19447779 0.19791917]\n",
      " [0.36030412 0.36990796 0.37871148 ... 0.18063225 0.18055222 0.18367347]\n",
      " [0.34277711 0.36086435 0.38015206 ... 0.17318928 0.17342937 0.1757503 ]\n",
      " ...\n",
      " [0.47811124 0.46506603 0.4542617  ... 0.46842737 0.46786715 0.46714686]\n",
      " [0.42785114 0.42553021 0.42392957 ... 0.46490596 0.46466587 0.46434574]\n",
      " [0.42360944 0.42136855 0.42064826 ... 0.46170468 0.46218487 0.46290516]]\n",
      "[INFO] applying large_blur kernel\n",
      "[[ 89.2154195   89.70294785  90.05442177 ...  47.89342404  49.05668934\n",
      "   50.03401361]\n",
      " [ 86.7755102   87.48072562  88.02267574 ...  47.28571429  48.36281179\n",
      "   49.29024943]\n",
      " [ 85.27437642  86.04081633  86.67120181 ...  45.98639456  46.82086168\n",
      "   47.6553288 ]\n",
      " ...\n",
      " [149.33786848 147.7755102  145.96145125 ... 120.50566893 120.16553288\n",
      "  119.85260771]\n",
      " [143.07709751 141.52834467 139.72108844 ... 120.11564626 119.74376417\n",
      "  119.39229025]\n",
      " [136.88888889 135.32879819 133.47165533 ... 119.68027211 119.29705215\n",
      "  118.93650794]]\n",
      "[[0.34986439 0.35177627 0.3531546  ... 0.18781735 0.19237917 0.19621182]\n",
      " [0.34029612 0.34306167 0.34518696 ... 0.18543417 0.18965809 0.1932951 ]\n",
      " [0.33440932 0.33741497 0.33988707 ... 0.1803388  0.18361122 0.18688364]\n",
      " ...\n",
      " [0.5856387  0.5795118  0.57239785 ... 0.47257125 0.47123738 0.47001023]\n",
      " [0.56108666 0.55501312 0.54792584 ... 0.47104175 0.46958339 0.46820506]\n",
      " [0.53681917 0.53070117 0.52341826 ... 0.4693344  0.46783158 0.46641768]]\n",
      "[INFO] applying sharpen kernel\n",
      "[[ 126.   60.  142. ...   64.   -4.  144.]\n",
      " [ 222.   88.    8. ...  150.  -29.  -17.]\n",
      " [  43. -111.   54. ...  -35.   85.  114.]\n",
      " ...\n",
      " [ 112.  110.  120. ...  138.  104.  124.]\n",
      " [ 109.  108.  117. ...  142.  106.  108.]\n",
      " [ 105.  104.  113. ...  142.  111.  111.]]\n",
      "[[0.49411765 0.23529412 0.55686275 ... 0.25098039 0.         0.56470588]\n",
      " [0.87058824 0.34509804 0.03137255 ... 0.58823529 0.         0.        ]\n",
      " [0.16862745 0.         0.21176471 ... 0.         0.33333333 0.44705882]\n",
      " ...\n",
      " [0.43921569 0.43137255 0.47058824 ... 0.54117647 0.40784314 0.48627451]\n",
      " [0.42745098 0.42352941 0.45882353 ... 0.55686275 0.41568627 0.42352941]\n",
      " [0.41176471 0.40784314 0.44313725 ... 0.55686275 0.43529412 0.43529412]]\n",
      "[INFO] applying laplacian kernel\n",
      "[[ -15.   26.  -49. ...  -14.   41.  -72.]\n",
      " [-101.   -8.   60. ...  -92.   59.   52.]\n",
      " [  28.  148.   27. ...   65.  -36.  -59.]\n",
      " ...\n",
      " [  -1.    1.   -8. ...  -12.   14.   -2.]\n",
      " [   0.    1.   -7. ...  -17.   10.    7.]\n",
      " [   2.    3.   -5. ...  -19.    5.    3.]]\n",
      "[[0.         0.10196078 0.         ... 0.         0.16078431 0.        ]\n",
      " [0.         0.         0.23529412 ... 0.         0.23137255 0.20392157]\n",
      " [0.10980392 0.58039216 0.10588235 ... 0.25490196 0.         0.        ]\n",
      " ...\n",
      " [0.         0.00392157 0.         ... 0.         0.05490196 0.        ]\n",
      " [0.         0.00392157 0.         ... 0.         0.03921569 0.02745098]\n",
      " [0.00784314 0.01176471 0.         ... 0.         0.01960784 0.01176471]]\n",
      "[INFO] applying sobel_x kernel\n",
      "[[-116. -107.  -32. ...  -12.   43.  110.]\n",
      " [-141. -114.  108. ...    3.    1.   51.]\n",
      " [-128.  -29.  305. ...   18.   13.   -6.]\n",
      " ...\n",
      " [   1.    4.  -21. ...  -12.  -13.   16.]\n",
      " [   0.    4.  -20. ...   -2.  -33.    0.]\n",
      " [   0.    4.  -20. ...   19.  -37.   -7.]]\n",
      "[[0.         0.         0.         ... 0.         0.16862745 0.43137255]\n",
      " [0.         0.         0.42352941 ... 0.01176471 0.00392157 0.2       ]\n",
      " [0.         0.         1.         ... 0.07058824 0.05098039 0.        ]\n",
      " ...\n",
      " [0.00392157 0.01568627 0.         ... 0.         0.         0.0627451 ]\n",
      " [0.         0.01568627 0.         ... 0.         0.         0.        ]\n",
      " [0.         0.01568627 0.         ... 0.0745098  0.         0.        ]]\n",
      "[INFO] applying sobel_y kernel\n",
      "[[  24.  -27.  -54. ...   -2.  -43. -118.]\n",
      " [-169. -150.   10. ...  -27.  -13.  -39.]\n",
      " [-130.  -51.   71. ...  -18.   -5.  -24.]\n",
      " ...\n",
      " [ -13.  -14.  -13. ...  -12.  -29.  -54.]\n",
      " [ -16.  -16.  -16. ...  -22.  -15.  -26.]\n",
      " [  -8.   -8.   -8. ...  -13.   -3.   -3.]]\n",
      "[[0.09411765 0.         0.         ... 0.         0.         0.        ]\n",
      " [0.         0.         0.03921569 ... 0.         0.         0.        ]\n",
      " [0.         0.         0.27843137 ... 0.         0.         0.        ]\n",
      " ...\n",
      " [0.         0.         0.         ... 0.         0.         0.        ]\n",
      " [0.         0.         0.         ... 0.         0.         0.        ]\n",
      " [0.         0.         0.         ... 0.         0.         0.        ]]\n",
      "[INFO] applying emboss kernel\n",
      "[[  34.  -24.   42. ...   32.   22.   66.]\n",
      " [-108.  -82.  200. ...   54.   29.   59.]\n",
      " [-115.  -37.  316. ...   45.   17.   32.]\n",
      " ...\n",
      " [ 102.  104.   86. ...  108.   86.   96.]\n",
      " [  97.  100.   83. ...  106.   80.   98.]\n",
      " [ 101.  104.   87. ...  124.   85.  107.]]\n",
      "[[0.13333333 0.         0.16470588 ... 0.1254902  0.08627451 0.25882353]\n",
      " [0.         0.         0.78431373 ... 0.21176471 0.11372549 0.23137255]\n",
      " [0.         0.         1.         ... 0.17647059 0.06666667 0.1254902 ]\n",
      " ...\n",
      " [0.4        0.40784314 0.3372549  ... 0.42352941 0.3372549  0.37647059]\n",
      " [0.38039216 0.39215686 0.3254902  ... 0.41568627 0.31372549 0.38431373]\n",
      " [0.39607843 0.40784314 0.34117647 ... 0.48627451 0.33333333 0.41960784]]\n"
     ]
    }
   ],
   "source": [
    "for (kernelName, K) in kernelBank:\n",
    "    \n",
    "    print(\"[INFO] applying {} kernel\".format(kernelName))\n",
    "    convolveOutput = convolve(gray, K)\n",
    "    opencvOutput = cv2.filter2D(gray, -1, K)\n",
    "    \n",
    "    cv2.imshow(\"Original\", gray)\n",
    "    \n",
    "    cv2.imshow(\"{} - convole\".format(kernelName), convolveOutput)\n",
    "    cv2.imshow(\"{} - opencv\".format(kernelName), opencvOutput)\n",
    "    cv2.waitKey(0)\n",
    "    cv2.destroyAllWindows()"
   ]
  },
  {
   "cell_type": "code",
   "execution_count": 16,
   "metadata": {},
   "outputs": [
    {
     "data": {
      "text/plain": [
       "array([[111,  86,  93, ...,  50,  37,  72],\n",
       "       [121,  80,  68, ...,  58,  30,  35],\n",
       "       [ 71,  37,  81, ...,  30,  49,  55],\n",
       "       ...,\n",
       "       [111, 111, 112, ..., 126, 118, 122],\n",
       "       [109, 109, 110, ..., 125, 116, 115],\n",
       "       [107, 107, 108, ..., 123, 116, 114]], dtype=uint8)"
      ]
     },
     "execution_count": 16,
     "metadata": {},
     "output_type": "execute_result"
    }
   ],
   "source": [
    "gray"
   ]
  },
  {
   "cell_type": "code",
   "execution_count": null,
   "metadata": {},
   "outputs": [],
   "source": []
  }
 ],
 "metadata": {
  "kernelspec": {
   "display_name": "Python 3",
   "language": "python",
   "name": "python3"
  },
  "language_info": {
   "codemirror_mode": {
    "name": "ipython",
    "version": 3
   },
   "file_extension": ".py",
   "mimetype": "text/x-python",
   "name": "python",
   "nbconvert_exporter": "python",
   "pygments_lexer": "ipython3",
   "version": "3.6.9"
  }
 },
 "nbformat": 4,
 "nbformat_minor": 2
}
